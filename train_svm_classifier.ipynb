{
 "cells": [
  {
   "cell_type": "markdown",
   "metadata": {},
   "source": [
    "<p style=\"font-size:200%;\">Train svm classifier</p>"
   ]
  },
  {
   "cell_type": "markdown",
   "metadata": {
    "ExecuteTime": {
     "end_time": "2019-03-07T17:54:02.758615Z",
     "start_time": "2019-03-07T17:54:02.609615Z"
    }
   },
   "source": [
    "This notebook train the svm classifier, show the results of the cross-validation and saves it for later use."
   ]
  },
  {
   "cell_type": "code",
   "execution_count": 1,
   "metadata": {
    "ExecuteTime": {
     "end_time": "2019-03-07T17:53:13.248415Z",
     "start_time": "2019-03-07T17:53:10.042415Z"
    }
   },
   "outputs": [],
   "source": [
    "%load_ext autoreload\n",
    "%autoreload 2\n",
    "\n",
    "from src.models.svm_model import SvmModel\n",
    "from src.utils.utilities import load_pickle, save_pickle, now_time"
   ]
  },
  {
   "cell_type": "markdown",
   "metadata": {},
   "source": [
    "**Parameters:**"
   ]
  },
  {
   "cell_type": "code",
   "execution_count": 2,
   "metadata": {
    "ExecuteTime": {
     "end_time": "2019-03-07T17:53:13.361415Z",
     "start_time": "2019-03-07T17:53:13.248415Z"
    }
   },
   "outputs": [],
   "source": [
    "df1_path = 'data/data_preprocessed/clean_dataset1.p'\n",
    "df2_path = 'data/data_preprocessed/clean_dataset2.p'\n",
    "\n",
    "output_model_path = 'data/models/trained_svm_model.p'"
   ]
  },
  {
   "cell_type": "markdown",
   "metadata": {},
   "source": [
    "## Load datasets"
   ]
  },
  {
   "cell_type": "code",
   "execution_count": 3,
   "metadata": {},
   "outputs": [
    {
     "name": "stdout",
     "output_type": "stream",
     "text": [
      "(40602, 7)\n"
     ]
    },
    {
     "data": {
      "text/html": [
       "<div>\n",
       "<style scoped>\n",
       "    .dataframe tbody tr th:only-of-type {\n",
       "        vertical-align: middle;\n",
       "    }\n",
       "\n",
       "    .dataframe tbody tr th {\n",
       "        vertical-align: top;\n",
       "    }\n",
       "\n",
       "    .dataframe thead th {\n",
       "        text-align: right;\n",
       "    }\n",
       "</style>\n",
       "<table border=\"1\" class=\"dataframe\">\n",
       "  <thead>\n",
       "    <tr style=\"text-align: right;\">\n",
       "      <th></th>\n",
       "      <th>filename</th>\n",
       "      <th>folder</th>\n",
       "      <th>text</th>\n",
       "      <th>y</th>\n",
       "      <th>lab</th>\n",
       "    </tr>\n",
       "  </thead>\n",
       "  <tbody>\n",
       "    <tr>\n",
       "      <th>0</th>\n",
       "      <td>0000.pdf</td>\n",
       "      <td>data/dataset2/</td>\n",
       "      <td>\\n\\n\\n\\n\\n\\n\\n\\n\\n\\n\\nExample lab report\\n\\netc.</td>\n",
       "      <td>1</td>\n",
       "      <td>NaN</td>\n",
       "    </tr>\n",
       "  </tbody>\n",
       "</table>\n",
       "</div>"
      ],
      "text/plain": [
       "   filename             folder  \\\n",
       "0  0000.pdf  data/dataset2/   \n",
       "\n",
       "                                               text  y  lab  \n",
       "0  \\n\\n\\n\\n\\n\\n\\n\\n\\n\\n\\nExample lab report\\n\\netc.  1  NaN  "
      ]
     },
     "execution_count": 3,
     "metadata": {},
     "output_type": "execute_result"
    }
   ],
   "source": [
    "df1 = load_pickle(df1_path)\n",
    "print(df1.shape)\n",
    "df1.head(1)"
   ]
  },
  {
   "cell_type": "code",
   "execution_count": 4,
   "metadata": {},
   "outputs": [
    {
     "name": "stdout",
     "output_type": "stream",
     "text": [
      "(2301, 7)\n"
     ]
    },
    {
     "data": {
      "text/html": [
       "<div>\n",
       "<style scoped>\n",
       "    .dataframe tbody tr th:only-of-type {\n",
       "        vertical-align: middle;\n",
       "    }\n",
       "\n",
       "    .dataframe tbody tr th {\n",
       "        vertical-align: top;\n",
       "    }\n",
       "\n",
       "    .dataframe thead th {\n",
       "        text-align: right;\n",
       "    }\n",
       "</style>\n",
       "<table border=\"1\" class=\"dataframe\">\n",
       "  <thead>\n",
       "    <tr style=\"text-align: right;\">\n",
       "      <th></th>\n",
       "      <th>filename</th>\n",
       "      <th>folder</th>\n",
       "      <th>text</th>\n",
       "      <th>y</th>\n",
       "      <th>lab</th>\n",
       "    </tr>\n",
       "  </thead>\n",
       "  <tbody>\n",
       "    <tr>\n",
       "      <th>0</th>\n",
       "      <td>0000.pdf</td>\n",
       "      <td>data/dataset2/</td>\n",
       "      <td>\\n\\n\\n\\n\\n\\n\\n\\n\\n\\n\\nExample lab report\\n\\netc.</td>\n",
       "      <td>1</td>\n",
       "      <td>NaN</td>\n",
       "    </tr>\n",
       "  </tbody>\n",
       "</table>\n",
       "</div>"
      ],
      "text/plain": [
       "   filename             folder  \\\n",
       "0  0000.pdf  data/dataset2/   \n",
       "\n",
       "                                               text  y  lab  \n",
       "0  \\n\\n\\n\\n\\n\\n\\n\\n\\n\\n\\nExample lab report\\n\\netc.  1  NaN  "
      ]
     },
     "execution_count": 4,
     "metadata": {},
     "output_type": "execute_result"
    }
   ],
   "source": [
    "df2 = load_pickle(df2_path)\n",
    "print(df2.shape)\n",
    "df2.head(1)"
   ]
  },
  {
   "cell_type": "markdown",
   "metadata": {},
   "source": [
    "## Train/test model"
   ]
  },
  {
   "cell_type": "code",
   "execution_count": 5,
   "metadata": {
    "ExecuteTime": {
     "end_time": "2019-03-07T17:53:21.337415Z",
     "start_time": "2019-03-07T17:53:14.863215Z"
    }
   },
   "outputs": [
    {
     "name": "stdout",
     "output_type": "stream",
     "text": [
      "---- Metrics for df1 data: ----\n",
      "\n",
      "Predicted positive: 3849\n",
      "Predicted negative: 2242\n",
      "True positive: 3519\n",
      "False positive: 330\n",
      "True negative: 2190\n",
      "False negative: 52\n",
      "Sensitivity=recall=vp/(vp+fn): 0.99\n",
      "Specificity=vn/(vn+fp): 0.87\n",
      "VPP=vp/(vp+fp): 0.91\n",
      "VPN=vn/(vn+fn): 0.98\n",
      "\n",
      "------------------------------\n",
      "\n",
      "              precision    recall  f1-score   support\n",
      "\n",
      "           0       0.98      0.87      0.92      2520\n",
      "           1       0.91      0.99      0.95      3571\n",
      "\n",
      "   micro avg       0.94      0.94      0.94      6091\n",
      "   macro avg       0.95      0.93      0.93      6091\n",
      "weighted avg       0.94      0.94      0.94      6091\n",
      "\n",
      "\n",
      "**********************************************************************\n",
      "\n",
      "\n",
      "----- Metrics for df2 data: ----\n",
      "\n",
      "Predicted positive: 281\n",
      "Predicted negative: 295\n",
      "True positive: 183\n",
      "False positive: 98\n",
      "True negative: 293\n",
      "False negative: 2\n",
      "Sensitivity=recall=vp/(vp+fn): 0.99\n",
      "Specificity=vn/(vn+fp): 0.75\n",
      "VPP=vp/(vp+fp): 0.65\n",
      "VPN=vn/(vn+fn): 0.99\n",
      "\n",
      "------------------------------\n",
      "\n",
      "              precision    recall  f1-score   support\n",
      "\n",
      "           0       0.99      0.75      0.85       391\n",
      "           1       0.65      0.99      0.79       185\n",
      "\n",
      "   micro avg       0.83      0.83      0.83       576\n",
      "   macro avg       0.82      0.87      0.82       576\n",
      "weighted avg       0.88      0.83      0.83       576\n",
      "\n"
     ]
    }
   ],
   "source": [
    "model = SvmModel(pred_split_position=-0.724)\n",
    "model.train_and_test_on_2_datasets(df1, df2)"
   ]
  },
  {
   "cell_type": "markdown",
   "metadata": {},
   "source": [
    "## Train model"
   ]
  },
  {
   "cell_type": "code",
   "execution_count": 6,
   "metadata": {
    "ExecuteTime": {
     "end_time": "2019-03-07T17:53:27.912815Z",
     "start_time": "2019-03-07T17:53:21.337415Z"
    }
   },
   "outputs": [],
   "source": [
    "model = SvmModel(pred_split_position=-0.724)\n",
    "model.fit_on_2_datasets(df1, df2)\n",
    "model.save_model(output_model_path)"
   ]
  }
 ],
 "metadata": {
  "kernelspec": {
   "display_name": "Python 3",
   "language": "python",
   "name": "python3"
  },
  "language_info": {
   "codemirror_mode": {
    "name": "ipython",
    "version": 3
   },
   "file_extension": ".py",
   "mimetype": "text/x-python",
   "name": "python",
   "nbconvert_exporter": "python",
   "pygments_lexer": "ipython3",
   "version": "3.7.3"
  },
  "pycharm": {
   "stem_cell": {
    "cell_type": "raw",
    "metadata": {
     "collapsed": false
    },
    "source": []
   }
  },
  "toc": {
   "base_numbering": 1,
   "nav_menu": {},
   "number_sections": true,
   "sideBar": true,
   "skip_h1_title": false,
   "title_cell": "Table of Contents",
   "title_sidebar": "Contents",
   "toc_cell": false,
   "toc_position": {},
   "toc_section_display": true,
   "toc_window_display": false
  },
  "varInspector": {
   "cols": {
    "lenName": 16,
    "lenType": 16,
    "lenVar": 40
   },
   "kernels_config": {
    "python": {
     "delete_cmd_postfix": "",
     "delete_cmd_prefix": "del ",
     "library": "var_list.py",
     "varRefreshCmd": "print(var_dic_list())"
    },
    "r": {
     "delete_cmd_postfix": ") ",
     "delete_cmd_prefix": "rm(",
     "library": "var_list.r",
     "varRefreshCmd": "cat(var_dic_list()) "
    }
   },
   "types_to_exclude": [
    "module",
    "function",
    "builtin_function_or_method",
    "instance",
    "_Feature"
   ],
   "window_display": false
  }
 },
 "nbformat": 4,
 "nbformat_minor": 2
}
