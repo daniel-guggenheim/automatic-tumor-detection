{
 "cells": [
  {
   "cell_type": "markdown",
   "metadata": {},
   "source": [
    "<p style=\"font-size:200%;\">Classification using both models on existing data and on new folders</p>"
   ]
  },
  {
   "cell_type": "markdown",
   "metadata": {},
   "source": [
    "This notebook shows an example of how to classify new folders of pdfs with both the keyword and svm model.\n",
    "\n",
    "It also shows how to classify the existing dataset (dataset 1 and dataset 2) using both techniques."
   ]
  },
  {
   "cell_type": "code",
   "execution_count": 1,
   "metadata": {
    "ExecuteTime": {
     "end_time": "2019-03-08T09:01:51.049015Z",
     "start_time": "2019-03-08T09:01:45.121015Z"
    }
   },
   "outputs": [],
   "source": [
    "%load_ext autoreload\n",
    "%autoreload 2\n",
    "\n",
    "import src.classify_folder as classify_folder\n",
    "from src.models.keyword_model import KeywordModel, KeywordPreprocessing\n",
    "from src.utils.ml_utilities import print_metrics, plot_confusion_matrix\n",
    "from src.utils.utilities import load_pickle"
   ]
  },
  {
   "cell_type": "markdown",
   "metadata": {},
   "source": [
    "# Classification of new folders"
   ]
  },
  {
   "cell_type": "code",
   "execution_count": 2,
   "metadata": {
    "ExecuteTime": {
     "end_time": "2019-03-08T09:01:51.990015Z",
     "start_time": "2019-03-08T09:01:51.697015Z"
    }
   },
   "outputs": [],
   "source": [
    "sample_folder = 'data/sample_pdfs/'"
   ]
  },
  {
   "cell_type": "markdown",
   "metadata": {
    "heading_collapsed": true
   },
   "source": [
    "## Keywords classifier"
   ]
  },
  {
   "cell_type": "code",
   "execution_count": 3,
   "metadata": {
    "ExecuteTime": {
     "end_time": "2019-03-08T09:02:01.285015Z",
     "start_time": "2019-03-08T09:01:52.950015Z"
    },
    "hidden": true
   },
   "outputs": [],
   "source": [
    "result_df = classify_folder.classify_folder_of_pdfs_with_keywords(sample_folder)\n",
    "result_df.head()"
   ]
  },
  {
   "cell_type": "markdown",
   "metadata": {},
   "source": [
    "## SVM classifier"
   ]
  },
  {
   "cell_type": "code",
   "execution_count": 4,
   "metadata": {
    "ExecuteTime": {
     "end_time": "2019-03-08T12:50:45.798215Z",
     "start_time": "2019-03-08T12:50:45.797215Z"
    }
   },
   "outputs": [],
   "source": [
    "svm_trained_model_path = 'data/models/trained_svm_model.p'"
   ]
  },
  {
   "cell_type": "code",
   "execution_count": 5,
   "metadata": {
    "ExecuteTime": {
     "end_time": "2019-03-08T09:02:31.301015Z",
     "start_time": "2019-03-08T09:02:14.468015Z"
    }
   },
   "outputs": [],
   "source": [
    "result_df = classify_folder.classify_folder_of_pdfs_with_svm(sample_folder, svm_trained_model_path)\n",
    "result_df.head()"
   ]
  },
  {
   "cell_type": "markdown",
   "metadata": {},
   "source": [
    "# Classification of existing dataset"
   ]
  },
  {
   "cell_type": "markdown",
   "metadata": {},
   "source": [
    "## Secondary dataset"
   ]
  },
  {
   "cell_type": "code",
   "execution_count": 6,
   "metadata": {
    "ExecuteTime": {
     "end_time": "2019-03-07T18:23:08.120015Z",
     "start_time": "2019-03-07T18:23:07.932815Z"
    }
   },
   "outputs": [],
   "source": [
    "df2_path = 'data/data_preprocessed/clean_dataset2.p'"
   ]
  },
  {
   "cell_type": "code",
   "execution_count": 7,
   "metadata": {},
   "outputs": [
    {
     "data": {
      "text/html": [
       "<div>\n",
       "<style scoped>\n",
       "    .dataframe tbody tr th:only-of-type {\n",
       "        vertical-align: middle;\n",
       "    }\n",
       "\n",
       "    .dataframe tbody tr th {\n",
       "        vertical-align: top;\n",
       "    }\n",
       "\n",
       "    .dataframe thead th {\n",
       "        text-align: right;\n",
       "    }\n",
       "</style>\n",
       "<table border=\"1\" class=\"dataframe\">\n",
       "  <thead>\n",
       "    <tr style=\"text-align: right;\">\n",
       "      <th></th>\n",
       "      <th>filename</th>\n",
       "      <th>folder</th>\n",
       "      <th>text</th>\n",
       "      <th>y</th>\n",
       "      <th>labo</th>\n",
       "      <th>clean_text</th>\n",
       "    </tr>\n",
       "  </thead>\n",
       "  <tbody>\n",
       "    <tr>\n",
       "      <th>0</th>\n",
       "      <td>0000.pdf</td>\n",
       "      <td>data/dataset2/</td>\n",
       "      <td>\\n\\n\\n\\n\\n\\n\\n\\n\\n\\n\\nExample lab report\\n\\netc.</td>\n",
       "      <td>1</td>\n",
       "      <td>example_lab</td>\n",
       "      <td>example lab report etc</td>\n",
       "    </tr>\n",
       "  </tbody>\n",
       "</table>\n",
       "</div>"
      ],
      "text/plain": [
       "   filename             folder  \\\n",
       "0  0000.pdf  data/dataset2/   \n",
       "\n",
       "                                               text  y         labo  \\\n",
       "0  \\n\\n\\n\\n\\n\\n\\n\\n\\n\\n\\nExample lab report\\n\\netc.  1  example_lab   \n",
       "\n",
       "               clean_text  \n",
       "0  example lab report etc  "
      ]
     },
     "execution_count": 7,
     "metadata": {},
     "output_type": "execute_result"
    }
   ],
   "source": [
    "df2 = load_pickle(df2_path)\n",
    "df2.head(1)"
   ]
  },
  {
   "cell_type": "markdown",
   "metadata": {},
   "source": [
    "### Keywords classifier"
   ]
  },
  {
   "cell_type": "code",
   "execution_count": 8,
   "metadata": {
    "ExecuteTime": {
     "end_time": "2019-03-07T18:23:10.180415Z",
     "start_time": "2019-03-07T18:23:08.341415Z"
    }
   },
   "outputs": [
    {
     "name": "stdout",
     "output_type": "stream",
     "text": [
      "Predicted positive: 947\n",
      "Predicted negative: 1354\n",
      "True positive: 708\n",
      "False positive: 239\n",
      "True negative: 1321\n",
      "False negative: 33\n",
      "Sensitivity=recall=vp/(vp+fn): 0.96\n",
      "Specificity=vn/(vn+fp): 0.85\n",
      "VPP=vp/(vp+fp): 0.75\n",
      "VPN=vn/(vn+fn): 0.98\n",
      "Confusion matrix, without normalization\n"
     ]
    },
    {
     "data": {
      "image/png": "[encoded data removed]",
      "text/plain": [
       "<Figure size 432x288 with 2 Axes>"
      ]
     },
     "metadata": {
      "needs_background": "light"
     },
     "output_type": "display_data"
    }
   ],
   "source": [
    "kw_model = KeywordModel(keyword_filename='data/keywords/terms_2016-2017.txt')\n",
    "kw_preprocessing = KeywordPreprocessing()\n",
    "df2['y_pred'] = kw_model.predict(kw_preprocessing.transform(df2.text.values))\n",
    "print_metrics(df2.y.values, df2.y_pred.values)\n",
    "plot_confusion_matrix(df2.y.values, df2.y_pred.values)"
   ]
  },
  {
   "cell_type": "markdown",
   "metadata": {},
   "source": [
    "### SVM classifier"
   ]
  },
  {
   "cell_type": "markdown",
   "metadata": {},
   "source": [
    "Note that model has overfitted on the dataset."
   ]
  },
  {
   "cell_type": "code",
   "execution_count": 9,
   "metadata": {
    "ExecuteTime": {
     "end_time": "2019-03-07T18:23:10.766415Z",
     "start_time": "2019-03-07T18:23:10.180415Z"
    }
   },
   "outputs": [
    {
     "name": "stdout",
     "output_type": "stream",
     "text": [
      "Predicted positive: 1022\n",
      "Predicted negative: 1279\n",
      "True positive: 739\n",
      "False positive: 283\n",
      "True negative: 1277\n",
      "False negative: 2\n",
      "Sensitivity=recall=vp/(vp+fn): 1.00\n",
      "Specificity=vn/(vn+fp): 0.82\n",
      "VPP=vp/(vp+fp): 0.72\n",
      "VPN=vn/(vn+fn): 1.00\n",
      "Confusion matrix, without normalization\n"
     ]
    },
    {
     "data": {
      "image/png": "[encoded data removed]",
      "text/plain": [
       "<Figure size 432x288 with 2 Axes>"
      ]
     },
     "metadata": {
      "needs_background": "light"
     },
     "output_type": "display_data"
    }
   ],
   "source": [
    "svm_model = load_pickle(svm_trained_model_path)\n",
    "df2['y_pred'] = svm_model.predict(df2.clean_text.values)\n",
    "print_metrics(df2.y.values, df2.y_pred.values)\n",
    "plot_confusion_matrix(df2.y.values, df2.y_pred.values)"
   ]
  },
  {
   "cell_type": "markdown",
   "metadata": {},
   "source": [
    "## Primary dataset"
   ]
  },
  {
   "cell_type": "code",
   "execution_count": 10,
   "metadata": {
    "ExecuteTime": {
     "end_time": "2019-03-07T18:23:10.969015Z",
     "start_time": "2019-03-07T18:23:10.766415Z"
    }
   },
   "outputs": [],
   "source": [
    "df1_path = 'data/data_preprocessed/clean_dataset1.p'\n",
    "df1 = load_pickle(df1_path)"
   ]
  },
  {
   "cell_type": "markdown",
   "metadata": {},
   "source": [
    "### Keywords classifier"
   ]
  },
  {
   "cell_type": "code",
   "execution_count": 12,
   "metadata": {
    "ExecuteTime": {
     "end_time": "2019-03-07T18:23:44.437415Z",
     "start_time": "2019-03-07T18:23:12.389015Z"
    }
   },
   "outputs": [
    {
     "name": "stdout",
     "output_type": "stream",
     "text": [
      "Predicted positive: 25885\n",
      "Predicted negative: 14717\n",
      "True positive: 23610\n",
      "False positive: 2275\n",
      "True negative: 14326\n",
      "False negative: 391\n",
      "Sensitivity=recall=vp/(vp+fn): 0.98\n",
      "Specificity=vn/(vn+fp): 0.86\n",
      "VPP=vp/(vp+fp): 0.91\n",
      "VPN=vn/(vn+fn): 0.97\n",
      "Confusion matrix, without normalization\n"
     ]
    },
    {
     "data": {
      "image/png": "[encoded data removed]",
      "text/plain": [
       "<Figure size 432x288 with 2 Axes>"
      ]
     },
     "metadata": {
      "needs_background": "light"
     },
     "output_type": "display_data"
    }
   ],
   "source": [
    "kw_model = KeywordModel(keyword_filename='data/keywords/terms_2016-2017.txt')\n",
    "kw_preprocessing = KeywordPreprocessing()\n",
    "df1['y_pred'] = kw_model.predict(kw_preprocessing.transform(df1.text.values))\n",
    "print_metrics(df1.y.values, df1.y_pred.values)\n",
    "plot_confusion_matrix(df1.y.values, df1.y_pred.values)"
   ]
  },
  {
   "cell_type": "markdown",
   "metadata": {},
   "source": [
    "### SVM classifier"
   ]
  },
  {
   "cell_type": "markdown",
   "metadata": {},
   "source": [
    "Note that model has overfitted on the dataset."
   ]
  },
  {
   "cell_type": "code",
   "execution_count": 13,
   "metadata": {
    "ExecuteTime": {
     "end_time": "2019-03-07T18:23:49.386815Z",
     "start_time": "2019-03-07T18:23:44.437415Z"
    }
   },
   "outputs": [
    {
     "name": "stdout",
     "output_type": "stream",
     "text": [
      "Predicted positive: 25443\n",
      "Predicted negative: 15159\n",
      "True positive: 23977\n",
      "False positive: 1466\n",
      "True negative: 15135\n",
      "False negative: 24\n",
      "Sensitivity=recall=vp/(vp+fn): 1.00\n",
      "Specificity=vn/(vn+fp): 0.91\n",
      "VPP=vp/(vp+fp): 0.94\n",
      "VPN=vn/(vn+fn): 1.00\n",
      "Confusion matrix, without normalization\n"
     ]
    },
    {
     "data": {
      "image/png": "[encoded data removed]",
      "text/plain": [
       "<Figure size 432x288 with 2 Axes>"
      ]
     },
     "metadata": {
      "needs_background": "light"
     },
     "output_type": "display_data"
    }
   ],
   "source": [
    "svm_model = load_pickle(svm_trained_model_path)\n",
    "df1['y_pred'] = svm_model.predict(df1.clean_text.values)\n",
    "print_metrics(df1.y.values, df1.y_pred.values)\n",
    "plot_confusion_matrix(df1.y.values, df1.y_pred.values)"
   ]
  }
 ],
 "metadata": {
  "kernelspec": {
   "display_name": "Python 3",
   "language": "python",
   "name": "python3"
  },
  "language_info": {
   "codemirror_mode": {
    "name": "ipython",
    "version": 3
   },
   "file_extension": ".py",
   "mimetype": "text/x-python",
   "name": "python",
   "nbconvert_exporter": "python",
   "pygments_lexer": "ipython3",
   "version": "3.7.3"
  },
  "notify_time": "10",
  "toc": {
   "base_numbering": 1,
   "nav_menu": {},
   "number_sections": true,
   "sideBar": true,
   "skip_h1_title": false,
   "title_cell": "Table of Contents",
   "title_sidebar": "Contents",
   "toc_cell": false,
   "toc_position": {},
   "toc_section_display": true,
   "toc_window_display": true
  },
  "varInspector": {
   "cols": {
    "lenName": 16,
    "lenType": 16,
    "lenVar": 40
   },
   "kernels_config": {
    "python": {
     "delete_cmd_postfix": "",
     "delete_cmd_prefix": "del ",
     "library": "var_list.py",
     "varRefreshCmd": "print(var_dic_list())"
    },
    "r": {
     "delete_cmd_postfix": ") ",
     "delete_cmd_prefix": "rm(",
     "library": "var_list.r",
     "varRefreshCmd": "cat(var_dic_list()) "
    }
   },
   "position": {
    "height": "267.898px",
    "left": "1235.25px",
    "right": "20px",
    "top": "219.966px",
    "width": "462.33px"
   },
   "types_to_exclude": [
    "module",
    "function",
    "builtin_function_or_method",
    "instance",
    "_Feature"
   ],
   "window_display": false
  }
 },
 "nbformat": 4,
 "nbformat_minor": 2
}
